{
 "cells": [
  {
   "cell_type": "markdown",
   "metadata": {},
   "source": [
    "## 1. 準備"
   ]
  },
  {
   "cell_type": "code",
   "execution_count": 1,
   "metadata": {},
   "outputs": [],
   "source": [
    "from bs4 import BeautifulSoup\n",
    "import matplotlib.pyplot as plt\n",
    "import numpy as np\n",
    "import json\n",
    "%matplotlib inline\n",
    "from IPython.core.pylabtools import figsize"
   ]
  },
  {
   "cell_type": "code",
   "execution_count": 2,
   "metadata": {},
   "outputs": [],
   "source": [
    "# https://github.com/sw1227/geospatial_analysis/blob/master/geo_util.py\n",
    "# -*- coding: utf-8 -*-\n",
    "\n",
    "import pandas as pd\n",
    "import requests\n",
    "import urllib.error\n",
    "from io import BytesIO\n",
    "import numpy as np\n",
    "from PIL import Image\n",
    "\n",
    "\n",
    "class MapTile():\n",
    "    \"\"\" 座標・タイルの種類をもとに地理院タイルを取得して保持するクラス \"\"\"\n",
    "\n",
    "    def __init__(self, from_tile, to_tile=None, zoom=None, tile_type=\"std\", ext=\"png\"):\n",
    "        \"\"\" Constructor\n",
    "        Input\n",
    "        -----\n",
    "          from_tile : 取得したい領域内の左上のタイル座標[z, x, y]\n",
    "          to_tile   : 取得したい領域内の右下のタイル座標[z, x, y] : 単一タイルの時省略可\n",
    "          zoom      : ズームレベル(from_tile, to_tileのzと異なるズームレベルで取得したければ)\n",
    "          tile_type : 取得したいタイルの種類\n",
    "          ext       : 取得したいタイルの拡張子\n",
    "        Attribute\n",
    "        ---------\n",
    "          data  : 取得した地理院タイル(Numpy Array)\n",
    "          shape : self.dataのshape\n",
    "        \"\"\"\n",
    "        self.from_tile = from_tile\n",
    "        self.to_tile = to_tile\n",
    "        self.zoom = zoom\n",
    "        self.tile_type = tile_type\n",
    "        self.ext = ext\n",
    "\n",
    "        # zoomを省略するとfrom_tileと同じになる\n",
    "        if zoom == None:\n",
    "            zoom =from_tile[0]\n",
    "\n",
    "        # to_tileを省略するとfrom_tileと同じになる\n",
    "        if to_tile == None:\n",
    "            to_tile = from_tile\n",
    "\n",
    "        # 地理院タイルのズームレベルの限界\n",
    "        MAX_ZOOM = 18\n",
    "        assert zoom <= MAX_ZOOM\n",
    "\n",
    "        # 指定された領域・ズームレベルおける最も左上のタイル座標\n",
    "        x1 = from_tile[1] * 2**(zoom - from_tile[0])\n",
    "        y1 = from_tile[2] * 2**(zoom - from_tile[0])\n",
    "        # 指定された領域・ズームレベルにおける最も右下のタイル座標\n",
    "        x2 = (to_tile[1] + 1) * 2**(zoom - to_tile[0]) - 1 # すぐ右下を考え、それから-1\n",
    "        y2 = (to_tile[2] + 1) * 2**(zoom - to_tile[0]) - 1 # すぐ右下を考え、それから-1\n",
    "\n",
    "        # 左上〜右下すべてのタイルの座標を計算\n",
    "        tile_list = []\n",
    "        for j in range(y1, y2+1):\n",
    "            tile_row = []\n",
    "            for i in range(x1, x2+1):\n",
    "                tile_row.append([zoom, i, j])\n",
    "            tile_list.append(tile_row)\n",
    "\n",
    "        # タイルをダウンロードしてself.dataにセット\n",
    "        full_tile = []\n",
    "        for tile_row in tile_list:\n",
    "            tr = []\n",
    "            for tile in tile_row:\n",
    "                tile_url = \"http://cyberjapandata.gsi.go.jp/xyz/{tile_type}/{z}/{x}/{y}.{ext}\"\\\n",
    "                           .format(tile_type=tile_type, z=tile[0], x=tile[1], y=tile[2], ext=ext)\n",
    "                if ext in [\"png\", \"jpg\"]:\n",
    "                    # 画像の場合\n",
    "                    try:\n",
    "                        response = requests.get(tile_url)\n",
    "                        img_arr = np.array(Image.open(BytesIO(response.content)))\n",
    "                    except urllib.error.HTTPError:\n",
    "                        img_arr = np.zeros((256, 256, 3))\n",
    "                    tr.append(img_arr)\n",
    "                elif ext == \"txt\":\n",
    "                    # 標高csvの場合\n",
    "                    try:\n",
    "                        df = pd.read_csv(tile_url, header=None).replace(\"e\", 0)  # 海: \"e\" -> 0\n",
    "                        csv_arr = df.values.astype(np.float)  # numpy array\n",
    "                    except urllib.error.HTTPError:\n",
    "                        csv_arr = np.zeros((256, 256))\n",
    "                    tr.append(csv_arr)\n",
    "                else:\n",
    "                    raise ValueError(\"only {.jpg, .png, .txt} supported\")\n",
    "            tr = np.array(tr)\n",
    "            full_tile.append(np.hstack(tr))\n",
    "        self.data = np.vstack(np.array(full_tile))\n",
    "        self.shape = self.data.shape\n",
    "\n",
    "\n",
    "    def grad(self, x, y):\n",
    "        \"\"\" 指定された地点での勾配を計算する\n",
    "        Input\n",
    "        -----\n",
    "          x, y: 勾配を計算したい地点の座標\n",
    "        Output\n",
    "        -----\n",
    "          grad_x, grad_y: 勾配のx, y成分\n",
    "        \"\"\"\n",
    "        fx, fy = int(x), int(y) # floor\n",
    "        dx, dy = x-int(x), y-int(y) # decimal part\n",
    "        if (dx + dy) < 1:\n",
    "            grad_x = self.data[fy, fx+1] - self.data[fy, fx]\n",
    "            grad_y = self.data[fy+1, fx] - self.data[fy, fx]\n",
    "        else:\n",
    "            grad_x = self.data[fy+1, fx+1] - self.data[fy+1, fx]\n",
    "            grad_y = self.data[fy+1, fx+1] - self.data[fy, fx+1]\n",
    "        return grad_x, grad_y\n",
    "    \n",
    "    def grad_norm(self, x, y):\n",
    "        \"\"\" 指定された地点での勾配の大きさを計算する \"\"\"\n",
    "        gx, gy = self.grad(x, y)\n",
    "        return np.sqrt(gx**2 + gy**2)\n",
    "\n",
    "    def grad_angle(self, x, y):\n",
    "        \"\"\" 指定された地点での勾配の角度を計算する \"\"\"\n",
    "        gx, gy = self.grad(x, y)\n",
    "        return np.arctan2(gy, gx)"
   ]
  },
  {
   "cell_type": "code",
   "execution_count": 3,
   "metadata": {},
   "outputs": [],
   "source": [
    "# http://www.trail-note.net/tech/coordinate/\n",
    "def latlon_to_pixel(lat, lon, zoom):\n",
    "    L = 85.05112878\n",
    "    x = 2**(zoom+7) * (1 + lon/180.)\n",
    "    y = 2**(zoom+7) / np.pi * (- np.arctanh(np.sin(np.pi*lat/180.)) + np.arctanh(np.sin(np.pi*L/180.)))\n",
    "    return x, y"
   ]
  },
  {
   "cell_type": "code",
   "execution_count": 4,
   "metadata": {},
   "outputs": [],
   "source": [
    "# pixel座標を与えられたタイル座標内でのpixel座標に変換する奴が欲しい"
   ]
  },
  {
   "cell_type": "markdown",
   "metadata": {},
   "source": [
    "TODO\n",
    "\n",
    "- heatmapで使ってる地図のタイル座標を見つける\n",
    "データはnew_dems.jsでnabewari_dem = ... となっている。768\n",
    "- 緯度経度ベースでjsonを出力する\n",
    "- jsで緯度経度を3Dの座標に変換する。まずはpixel座標にして、そこからスケール変換\n",
    "- 今までのpixel座標ベースのコードも修正する\n",
    "- タイル座標からjsonを作って可視化するまでのフローを簡潔にする。jsonを作るまではコマンドラインでできるぐらいにしたい。\n",
    "- zのscaleも、実際のスケールをベースにしてオフセットと倍率を調整できるようにしたい\n",
    "- タイル座標はpythonでjsonを出力するときにjsonの中に入れてしまって、jsはそれを読むようにすれば良い? でも標高はcsv... gpxは緯度経度だから含めなくて良いし...\n",
    "- 標高データを圧縮したい。0.1mぐらいの精度があればOK"
   ]
  },
  {
   "cell_type": "code",
   "execution_count": 5,
   "metadata": {},
   "outputs": [
    {
     "data": {
      "text/plain": [
       "<matplotlib.image.AxesImage at 0x1173cd780>"
      ]
     },
     "execution_count": 5,
     "metadata": {},
     "output_type": "execute_result"
    },
    {
     "data": {
      "image/png": "[encoded data removed]",
      "text/plain": [
       "<matplotlib.figure.Figure at 0x1146bd6d8>"
      ]
     },
     "metadata": {},
     "output_type": "display_data"
    }
   ],
   "source": [
    "from_tile, to_tile = [15, 29047, 12929], [15, 29049, 12931]\n",
    "nabewari_tile = MapTile(from_tile, to_tile, zoom=15, tile_type=\"dem5a\", ext=\"txt\")\n",
    "nabewari_map = MapTile(from_tile, to_tile, zoom=15, tile_type=\"std\", ext=\"png\")\n",
    "plt.imshow(nabewari_tile.data)"
   ]
  },
  {
   "cell_type": "code",
   "execution_count": 7,
   "metadata": {},
   "outputs": [
    {
     "data": {
      "text/plain": [
       "array([[  785.48,   782.47,   779.47, ...,  1103.78,  1104.63,  1106.36],\n",
       "       [  783.57,   780.6 ,   777.74, ...,  1108.31,  1108.97,  1109.77],\n",
       "       [  781.39,   778.55,   775.91, ...,  1113.17,  1113.83,  1114.05],\n",
       "       [  778.64,   775.95,   773.3 , ...,  1117.93,  1118.63,  1118.72],\n",
       "       [  775.69,   773.19,   770.61, ...,  1122.12,  1122.8 ,  1122.86]])"
      ]
     },
     "execution_count": 7,
     "metadata": {},
     "output_type": "execute_result"
    }
   ],
   "source": [
    "nabewari_tile.data[:5]"
   ]
  },
  {
   "cell_type": "code",
   "execution_count": 8,
   "metadata": {},
   "outputs": [],
   "source": [
    "np.savetxt(\"./static/data/heatmap_dem.csv\", nabewari_tile.data.flatten(), newline=\",\", fmt=\"%.1f\")"
   ]
  },
  {
   "cell_type": "code",
   "execution_count": 10,
   "metadata": {},
   "outputs": [
    {
     "data": {
      "text/plain": [
       "589824"
      ]
     },
     "execution_count": 10,
     "metadata": {},
     "output_type": "execute_result"
    }
   ],
   "source": [
    "len(nabewari_tile.data.flatten())"
   ]
  },
  {
   "cell_type": "markdown",
   "metadata": {},
   "source": [
    "- 鍋割山荘、番号を緯度経度のjsonに"
   ]
  },
  {
   "cell_type": "code",
   "execution_count": 11,
   "metadata": {},
   "outputs": [],
   "source": [
    "names = [\"/static/img/numbers/Number2.png\", \"/static/img/numbers/Number3.png\", \"/static/img/numbers/Number4.png\",\n",
    "         \"/static/img/numbers/Number5.png\", \"/static/img/numbers/Number6.png\", \"/static/img/numbers/Number7.png\",\n",
    "         \"/static/img/numbers/Number8.png\", \"/static/img/numbers/Number9.png\", \"/static/img/numbers/Number10.png\"]"
   ]
  },
  {
   "cell_type": "code",
   "execution_count": 12,
   "metadata": {},
   "outputs": [],
   "source": [
    "#  鍋割山稜2 - 10\n",
    "numbers = [[35.43203333333334, 139.1488945], [35.431705, 139.148025], [35.43167166666667, 139.1444083333333], \n",
    "           [35.430875, 139.1437083333333], [35.43199166666667, 139.14305], [35.43361666666667, 139.1429278333333],\n",
    "           [35.43595, 139.1413721666667], [35.43785, 139.1417528333333], [35.438795, 139.141875]]"
   ]
  },
  {
   "cell_type": "code",
   "execution_count": 18,
   "metadata": {},
   "outputs": [],
   "source": [
    "elevations = [660., 672.53, 795.12, 792.92, 876.53, 942.83, 1038.5, 1111., 1156.33]"
   ]
  },
  {
   "cell_type": "code",
   "execution_count": 20,
   "metadata": {},
   "outputs": [
    {
     "name": "stdout",
     "output_type": "stream",
     "text": [
      "/static/img/numbers/Number2.png [35.43203333333334, 139.1488945] 660.0\n",
      "/static/img/numbers/Number3.png [35.431705, 139.148025] 672.53\n",
      "/static/img/numbers/Number4.png [35.43167166666667, 139.1444083333333] 795.12\n",
      "/static/img/numbers/Number5.png [35.430875, 139.1437083333333] 792.92\n",
      "/static/img/numbers/Number6.png [35.43199166666667, 139.14305] 876.53\n",
      "/static/img/numbers/Number7.png [35.43361666666667, 139.1429278333333] 942.83\n",
      "/static/img/numbers/Number8.png [35.43595, 139.1413721666667] 1038.5\n",
      "/static/img/numbers/Number9.png [35.43785, 139.1417528333333] 1111.0\n",
      "/static/img/numbers/Number10.png [35.438795, 139.141875] 1156.33\n"
     ]
    }
   ],
   "source": [
    "for a, b, c in zip(names, numbers, elevations):\n",
    "    print(a, b, c)"
   ]
  },
  {
   "cell_type": "code",
   "execution_count": 27,
   "metadata": {},
   "outputs": [],
   "source": [
    "number_json = [{\"lat\": p[0], \"lon\": p[1], \"z\": e, \"name\": n} for p, n, e in zip(numbers, names, elevations)]\n",
    "with open(\"./static/data/nabewari_numbers_latlon.json\", \"w\") as f:\n",
    "    json.dump(number_json, f, indent=2)"
   ]
  },
  {
   "cell_type": "code",
   "execution_count": 29,
   "metadata": {},
   "outputs": [
    {
     "data": {
      "text/plain": [
       "{'lat': 35.43203333333334,\n",
       " 'lon': 139.1488945,\n",
       " 'name': '/static/img/numbers/Number2.png',\n",
       " 'z': 660.0}"
      ]
     },
     "execution_count": 29,
     "metadata": {},
     "output_type": "execute_result"
    }
   ],
   "source": [
    "number_json[0]"
   ]
  },
  {
   "cell_type": "code",
   "execution_count": 32,
   "metadata": {},
   "outputs": [],
   "source": [
    "sanso = [35.443929,139.14161]\n",
    "sanso_z = 1272.6"
   ]
  },
  {
   "cell_type": "code",
   "execution_count": 33,
   "metadata": {},
   "outputs": [],
   "source": [
    "sanso_json = [{\"lat\": sanso[0], \"lon\": sanso[1], \"z\": sanso_z, \"name\": \"/static/img/nabewari_sanso.png\"}]"
   ]
  },
  {
   "cell_type": "code",
   "execution_count": 35,
   "metadata": {},
   "outputs": [],
   "source": [
    "with open(\"./static/data/nabewari_sanso.json\", \"w\") as f:\n",
    "    json.dump(sanso_json, f, indent=2)"
   ]
  },
  {
   "cell_type": "markdown",
   "metadata": {},
   "source": [
    "- 緯度経度ベースの経路JSON"
   ]
  },
  {
   "cell_type": "code",
   "execution_count": 37,
   "metadata": {},
   "outputs": [],
   "source": [
    "name = \"./static/yamap_2017-12-04_08_20.gpx\"\n",
    "with open(name, \"r\") as f:\n",
    "    gpx = f.read()\n",
    "soup = BeautifulSoup(gpx, \"lxml\")"
   ]
  },
  {
   "cell_type": "code",
   "execution_count": 41,
   "metadata": {},
   "outputs": [
    {
     "data": {
      "text/plain": [
       "[{'lat': 35.4317330243396, 'lon': 139.149259748067, 'z': 660.370975494385},\n",
       " {'lat': 35.4317330243396, 'lon': 139.149031341205, 'z': 657.59534072876},\n",
       " {'lat': 35.431666681576, 'lon': 139.148818776141, 'z': 655.475589752197},\n",
       " {'lat': 35.431530517559, 'lon': 139.148668320979, 'z': 665.038822174072},\n",
       " {'lat': 35.4315242730411, 'lon': 139.14844754165, 'z': 668.425052642822},\n",
       " {'lat': 35.4316013027313, 'lon': 139.148246795069, 'z': 676.214603424072},\n",
       " {'lat': 35.4317075852635, 'lon': 139.148065494503, 'z': 674.839115142822},\n",
       " {'lat': 35.4317282466548, 'lon': 139.147844966631, 'z': 680.812015533447},\n",
       " {'lat': 35.4317396879526, 'lon': 139.147619325797, 'z': 688.532230377197},\n",
       " {'lat': 35.431752637993, 'lon': 139.14739318205, 'z': 695.738285064697},\n",
       " {'lat': 35.4317690665232, 'lon': 139.147170558701, 'z': 703.36145401001},\n",
       " {'lat': 35.4317305935877, 'lon': 139.146954137962, 'z': 703.71057510376},\n",
       " {'lat': 35.4317271150979, 'lon': 139.14673092788, 'z': 710.079105377197},\n",
       " {'lat': 35.4317146260621, 'lon': 139.146500760819, 'z': 711.54846572876},\n",
       " {'lat': 35.4317154642524, 'lon': 139.146278305109, 'z': 717.815921783447},\n",
       " {'lat': 35.4316419130521, 'lon': 139.146063979845, 'z': 725.803958892822},\n",
       " {'lat': 35.4315353790628, 'lon': 139.145885612945, 'z': 724.318851470947},\n",
       " {'lat': 35.4314256599503, 'lon': 139.145702384542, 'z': 715.030765533447},\n",
       " {'lat': 35.4315329064014, 'lon': 139.145524520557, 'z': 732.211429595947},\n",
       " {'lat': 35.4313942697229, 'lon': 139.145383536945, 'z': 739.543949127197},\n",
       " {'lat': 35.4313605744722, 'lon': 139.145153369884, 'z': 748.720462799072},\n",
       " {'lat': 35.4313659388902, 'lon': 139.14491658112, 'z': 751.712894439697},\n",
       " {'lat': 35.431374781798, 'lon': 139.144685156773, 'z': 752.768070220947},\n",
       " {'lat': 35.4312026175069, 'lon': 139.144615084062, 'z': 756.861087799072},\n",
       " {'lat': 35.4310650704759, 'lon': 139.144470244776, 'z': 759.117191314697},\n",
       " {'lat': 35.4309830535533, 'lon': 139.144267067443, 'z': 763.568607330322},\n",
       " {'lat': 35.4309579916628, 'lon': 139.144046874846, 'z': 771.388919830322},\n",
       " {'lat': 35.4309302894729, 'lon': 139.143820982556, 'z': 783.815433502197},\n",
       " {'lat': 35.4310674593183, 'lon': 139.143676981459, 'z': 807.69836807251},\n",
       " {'lat': 35.4312522802832, 'lon': 139.143689219038, 'z': 819.421390533447},\n",
       " {'lat': 35.43142482176, 'lon': 139.143600706141, 'z': 828.345462799072},\n",
       " {'lat': 35.4315756541075, 'lon': 139.143469864632, 'z': 839.843997955322},\n",
       " {'lat': 35.4317112733009, 'lon': 139.14332200786, 'z': 849.861331939697},\n",
       " {'lat': 35.4318288294928, 'lon': 139.143153699244, 'z': 862.090824127197},\n",
       " {'lat': 35.4319991078558, 'lon': 139.143070383127, 'z': 872.319095611572},\n",
       " {'lat': 35.4321838030922, 'lon': 139.143074574079, 'z': 879.268558502197},\n",
       " {'lat': 35.4323650617482, 'lon': 139.143056050073, 'z': 888.916873931885},\n",
       " {'lat': 35.4325461527663, 'lon': 139.143037442248, 'z': 902.289920806885},\n",
       " {'lat': 35.4327306384551, 'lon': 139.143041046466, 'z': 909.325199127197},\n",
       " {'lat': 35.4329053173172, 'lon': 139.142971644308, 'z': 914.279056549072},\n",
       " {'lat': 35.4330858635115, 'lon': 139.142967201899, 'z': 921.510501861572},\n",
       " {'lat': 35.4332691338243, 'lon': 139.142972650136, 'z': 929.222660064697},\n",
       " {'lat': 35.4334502667519, 'lon': 139.142981032039, 'z': 935.768924713135},\n",
       " {'lat': 35.4336315254079, 'lon': 139.142925962935, 'z': 943.56311416626},\n",
       " {'lat': 35.4337961459862, 'lon': 139.142826134469, 'z': 945.479251861572},\n",
       " {'lat': 35.4339023446994, 'lon': 139.142645001541, 'z': 948.080326080322},\n",
       " {'lat': 35.4339915700587, 'lon': 139.142444422598, 'z': 954.345951080322},\n",
       " {'lat': 35.434127189252, 'lon': 139.142297152559, 'z': 961.443363189697},\n",
       " {'lat': 35.4342569830226, 'lon': 139.142139824237, 'z': 968.507572174072},\n",
       " {'lat': 35.4344129283311, 'lon': 139.142007222529, 'z': 979.552249908447},\n",
       " {'lat': 35.434549972448, 'lon': 139.141860958318, 'z': 987.819339752197},\n",
       " {'lat': 35.4347044509234, 'lon': 139.141732463743, 'z': 993.768436431885},\n",
       " {'lat': 35.4348727595391, 'lon': 139.141646381597, 'z': 1004.36743545532},\n",
       " {'lat': 35.4350290820333, 'lon': 139.141535153742, 'z': 1010.36340713501},\n",
       " {'lat': 35.4351707361969, 'lon': 139.141397439073, 'z': 1019.66675186157},\n",
       " {'lat': 35.4353520367625, 'lon': 139.14133532917, 'z': 1026.2314491272},\n",
       " {'lat': 35.4355235724109, 'lon': 139.141266932841, 'z': 1031.3808631897},\n",
       " {'lat': 35.4356990475538, 'lon': 139.141330635305, 'z': 1034.70495986938},\n",
       " {'lat': 35.4358712118449, 'lon': 139.141405820976, 'z': 1038.86084365845},\n",
       " {'lat': 35.4360584216522, 'lon': 139.141410095747, 'z': 1040.8466835022},\n",
       " {'lat': 35.4362365370946, 'lon': 139.141476145144, 'z': 1041.4414100647},\n",
       " {'lat': 35.4364188015791, 'lon': 139.141445970292, 'z': 1046.58362197876},\n",
       " {'lat': 35.4366029519918, 'lon': 139.141427781562, 'z': 1057.4775428772},\n",
       " {'lat': 35.4367880244138, 'lon': 139.141437253113, 'z': 1066.04663467407},\n",
       " {'lat': 35.436968235332, 'lon': 139.141413532327, 'z': 1070.85718154907},\n",
       " {'lat': 35.4371504998165, 'lon': 139.141426859553, 'z': 1080.61938858032},\n",
       " {'lat': 35.4373250110405, 'lon': 139.141366928945, 'z': 1091.31323623657},\n",
       " {'lat': 35.4375056829634, 'lon': 139.141409592833, 'z': 1100.58801651001},\n",
       " {'lat': 35.43767390776, 'lon': 139.141489975284, 'z': 1110.05115127563},\n",
       " {'lat': 35.4377974989223, 'lon': 139.141657026614, 'z': 1112.55640029907},\n",
       " {'lat': 35.4379268316882, 'lon': 139.141812678556, 'z': 1114.73999404907},\n",
       " {'lat': 35.4381015524598, 'lon': 139.141897838692, 'z': 1120.15613174438},\n",
       " {'lat': 35.4382814700114, 'lon': 139.141915692146, 'z': 1124.66760635376},\n",
       " {'lat': 35.438464069772, 'lon': 139.141887361313, 'z': 1128.47449111938},\n",
       " {'lat': 35.4386458732518, 'lon': 139.141857018824, 'z': 1134.43616104126},\n",
       " {'lat': 35.4388296883883, 'lon': 139.141845870893, 'z': 1138.47644424438},\n",
       " {'lat': 35.439009857397, 'lon': 139.141809074338, 'z': 1146.95874404907},\n",
       " {'lat': 35.4391903197723, 'lon': 139.14181930026, 'z': 1157.77759170532},\n",
       " {'lat': 35.439301840994, 'lon': 139.141999762635, 'z': 1160.19702529907},\n",
       " {'lat': 35.4394717002618, 'lon': 139.142113672699, 'z': 1165.30713272095},\n",
       " {'lat': 35.4396364465686, 'lon': 139.142211321871, 'z': 1167.64099502563},\n",
       " {'lat': 35.4398110835212, 'lon': 139.142133370171, 'z': 1171.39709854126},\n",
       " {'lat': 35.4400016460898, 'lon': 139.14209799854, 'z': 1173.24487686157},\n",
       " {'lat': 35.4401829885649, 'lon': 139.142037481199, 'z': 1179.87634658813},\n",
       " {'lat': 35.4403385147782, 'lon': 139.141914099584, 'z': 1182.04126358032},\n",
       " {'lat': 35.4404815519559, 'lon': 139.141774876173, 'z': 1186.13245010376},\n",
       " {'lat': 35.4406631039786, 'lon': 139.14172492003, 'z': 1191.69849014282},\n",
       " {'lat': 35.4408604558887, 'lon': 139.141693906988, 'z': 1200.74109268188},\n",
       " {'lat': 35.4410264175715, 'lon': 139.141598688568, 'z': 1206.35022354126},\n",
       " {'lat': 35.4412120767268, 'lon': 139.141582511495, 'z': 1210.40283584595},\n",
       " {'lat': 35.4413851211178, 'lon': 139.141507577281, 'z': 1214.64795303345},\n",
       " {'lat': 35.441564200479, 'lon': 139.141470529269, 'z': 1222.37158584595},\n",
       " {'lat': 35.4417478479775, 'lon': 139.141424596439, 'z': 1228.72998428345},\n",
       " {'lat': 35.4418964172112, 'lon': 139.141298448797, 'z': 1233.40198135376},\n",
       " {'lat': 35.4420574754807, 'lon': 139.141197782139, 'z': 1236.83240127563},\n",
       " {'lat': 35.4422430089074, 'lon': 139.141145981978, 'z': 1239.6543006897},\n",
       " {'lat': 35.4424242675634, 'lon': 139.141192669178, 'z': 1240.09119033813},\n",
       " {'lat': 35.4425825178953, 'lon': 139.141302639748, 'z': 1240.38550186157},\n",
       " {'lat': 35.4427602980616, 'lon': 139.141384028028, 'z': 1241.07886123657},\n",
       " {'lat': 35.4429452028456, 'lon': 139.141388218979, 'z': 1243.02661514282},\n",
       " {'lat': 35.443126000497, 'lon': 139.141379166524, 'z': 1246.8681678772},\n",
       " {'lat': 35.4433095641764, 'lon': 139.141368186231, 'z': 1251.8808631897},\n",
       " {'lat': 35.4434870928856, 'lon': 139.141419818754, 'z': 1258.25928115845},\n",
       " {'lat': 35.4436683096322, 'lon': 139.14147128364, 'z': 1265.65710830688}]"
      ]
     },
     "execution_count": 41,
     "metadata": {},
     "output_type": "execute_result"
    }
   ],
   "source": [
    "trail = [{\"lat\": float(t.get(\"lat\")), \"lon\": float(t.get(\"lon\")), \"z\": float(t.ele.string)}\\\n",
    "       for t in soup.find_all(\"trkpt\")]\n",
    "trail"
   ]
  },
  {
   "cell_type": "code",
   "execution_count": 42,
   "metadata": {},
   "outputs": [],
   "source": [
    "with open(\"./static/data/nabewari_trail_latlon.json\", \"w\") as f:\n",
    "    json.dump(trail, f, indent=2)"
   ]
  },
  {
   "cell_type": "code",
   "execution_count": null,
   "metadata": {},
   "outputs": [],
   "source": []
  }
 ],
 "metadata": {
  "kernelspec": {
   "display_name": "Python 3",
   "language": "python",
   "name": "python3"
  },
  "language_info": {
   "codemirror_mode": {
    "name": "ipython",
    "version": 3
   },
   "file_extension": ".py",
   "mimetype": "text/x-python",
   "name": "python",
   "nbconvert_exporter": "python",
   "pygments_lexer": "ipython3",
   "version": "3.6.3"
  }
 },
 "nbformat": 4,
 "nbformat_minor": 2
}
